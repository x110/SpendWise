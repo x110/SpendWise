{
 "cells": [
  {
   "cell_type": "markdown",
   "metadata": {},
   "source": [
    "## SpendWise : Financial Assistant\n"
   ]
  },
  {
   "cell_type": "code",
   "execution_count": 1,
   "metadata": {},
   "outputs": [],
   "source": [
    "import os\n",
    "from dotenv import load_dotenv\n",
    "from langchain_openai import ChatOpenAI\n",
    "\n",
    "load_dotenv()\n",
    "\n",
    "os.environ['OPENAI_API_KEY']=os.getenv(\"OPENAI_API_KEY\")"
   ]
  },
  {
   "cell_type": "code",
   "execution_count": 2,
   "metadata": {},
   "outputs": [
    {
     "data": {
      "text/plain": [
       "[Document(metadata={'source': 'bank_statement.pdf', 'page': 0}, page_content='bank_statement_july_2024DateDescriptionDebitsCreditsBalance03 Jul 2024CARD NO.4439********1246 Talabat DUBAI:AE 689737 30-06-2024 66.04,AED-66.04836.29 Cr03 Jul 2024CARD NO.4439********1246 Amazon.ae Dubai:AE 500012 01-07-2024 175.25,AED-175.25902.33 Cr02 Jul 2024CARD NO.4439********1246 UNION COOP DUBAI:AE 218933 01-07-2024 5.50,AED-5.501077.58 Cr04 Jul 2024CARD NO.4439********1246 Carrefour DUBAI:AE 987654 02-07-2024 48.75,AED-48.751028.83 Cr06 Jul 2024CARD NO.4439********1246 Spinneys DUBAI:AE 123456 04-07-2024 33.20,AED-33.20995.63 Cr07 Jul 2024CARD NO.4439********1246 Zomato DUBAI:AE 654321 05-07-2024 92.40,AED-92.40903.23 Cr08 Jul 2024CARD NO.4439********1246 Dubai Mall Parking DUBAI:AE 789012 06-07-2024 20.00,AED-20.00883.23 Cr10 Jul 2024CARD NO.4439********1246 IKEA DUBAI:AE 345678 08-07-2024 120.55,AED-120.55762.68 Cr12 Jul 2024CARD NO.4439********1246 Lulu Hypermarket DUBAI:AE 456789 10-07-2024 87.90,AED-87.90674.78 Cr15 Jul 2024CARD NO.4439********1246 Starbucks DUBAI:AE 567890 13-07-2024 15.00,AED-15.00659.78 Cr17 Jul 2024CARD NO.4439********1246 Emirates Airline DUBAI:AE 678901 15-07-2024 350.00,AED-350.00309.78 Cr20 Jul 2024CARD NO.4439********1246 Jumeirah Beach Hotel DUBAI:AE 789123 18-07-2024 200.00,AED-200.00109.78 Cr22 Jul 2024CARD NO.4439********1246 Al Zahra Restaurant DUBAI:AE 890234 20-07-2024 75.40,AED-75.4034.38 Cr25 Jul 2024CARD NO.4439********1246 DU Mobile Recharge DUBAI:AE 901345 22-07-2024 50.00,AED-50.00-15.62 Dr28 Jul 2024CARD NO.4439********1246 H&M DUBAI:AE 012456 25-07-2024 98.00,AED-98.00-113.62 Dr30 Jul 2024CARD NO.4439********1246 Dubai Duty Free DUBAI:AE 123789 28-07-2024 210.00,AED-210.00-323.62 Dr\\n1')]"
      ]
     },
     "execution_count": 2,
     "metadata": {},
     "output_type": "execute_result"
    }
   ],
   "source": [
    "## Data Ingestion\n",
    "from langchain_community.document_loaders import PyPDFLoader\n",
    "loader = PyPDFLoader(\"bank_statement.pdf\")\n",
    "docs = loader.load()\n",
    "docs"
   ]
  },
  {
   "cell_type": "code",
   "execution_count": 3,
   "metadata": {},
   "outputs": [
    {
     "data": {
      "text/plain": [
       "[Document(metadata={'source': 'bank_statement.pdf', 'page': 0}, page_content='bank_statement_july_2024DateDescriptionDebitsCreditsBalance03 Jul 2024CARD NO.4439********1246 Talabat DUBAI:AE 689737 30-06-2024 66.04,AED-66.04836.29 Cr03 Jul 2024CARD NO.4439********1246 Amazon.ae Dubai:AE 500012 01-07-2024 175.25,AED-175.25902.33 Cr02 Jul 2024CARD NO.4439********1246 UNION COOP DUBAI:AE 218933 01-07-2024 5.50,AED-5.501077.58 Cr04 Jul 2024CARD NO.4439********1246 Carrefour DUBAI:AE 987654 02-07-2024 48.75,AED-48.751028.83 Cr06 Jul 2024CARD NO.4439********1246 Spinneys DUBAI:AE 123456 04-07-2024 33.20,AED-33.20995.63 Cr07 Jul 2024CARD NO.4439********1246 Zomato DUBAI:AE 654321 05-07-2024 92.40,AED-92.40903.23 Cr08 Jul 2024CARD NO.4439********1246 Dubai Mall Parking DUBAI:AE 789012 06-07-2024 20.00,AED-20.00883.23 Cr10 Jul 2024CARD NO.4439********1246 IKEA DUBAI:AE 345678 08-07-2024 120.55,AED-120.55762.68 Cr12 Jul 2024CARD NO.4439********1246 Lulu Hypermarket DUBAI:AE 456789 10-07-2024 87.90,AED-87.90674.78 Cr15 Jul 2024CARD NO.4439********1246 Starbucks DUBAI:AE'),\n",
       " Document(metadata={'source': 'bank_statement.pdf', 'page': 0}, page_content='Starbucks DUBAI:AE 567890 13-07-2024 15.00,AED-15.00659.78 Cr17 Jul 2024CARD NO.4439********1246 Emirates Airline DUBAI:AE 678901 15-07-2024 350.00,AED-350.00309.78 Cr20 Jul 2024CARD NO.4439********1246 Jumeirah Beach Hotel DUBAI:AE 789123 18-07-2024 200.00,AED-200.00109.78 Cr22 Jul 2024CARD NO.4439********1246 Al Zahra Restaurant DUBAI:AE 890234 20-07-2024 75.40,AED-75.4034.38 Cr25 Jul 2024CARD NO.4439********1246 DU Mobile Recharge DUBAI:AE 901345 22-07-2024 50.00,AED-50.00-15.62 Dr28 Jul 2024CARD NO.4439********1246 H&M DUBAI:AE 012456 25-07-2024 98.00,AED-98.00-113.62 Dr30 Jul 2024CARD NO.4439********1246 Dubai Duty Free DUBAI:AE 123789 28-07-2024 210.00,AED-210.00-323.62 Dr'),\n",
       " Document(metadata={'source': 'bank_statement.pdf', 'page': 0}, page_content='1')]"
      ]
     },
     "execution_count": 3,
     "metadata": {},
     "output_type": "execute_result"
    }
   ],
   "source": [
    "from langchain.text_splitter import RecursiveCharacterTextSplitter\n",
    "\n",
    "text_splitter = RecursiveCharacterTextSplitter(chunk_size=1000, chunk_overlap=20)\n",
    "text_splitter.split_documents(docs)"
   ]
  },
  {
   "cell_type": "code",
   "execution_count": 4,
   "metadata": {},
   "outputs": [
    {
     "data": {
      "text/plain": [
       "[Document(metadata={'source': 'bank_statement.pdf', 'page': 0}, page_content='bank_statement_july_2024DateDescriptionDebitsCreditsBalance03 Jul 2024CARD NO.4439********1246 Talabat DUBAI:AE 689737 30-06-2024 66.04,AED-66.04836.29 Cr03 Jul 2024CARD NO.4439********1246 Amazon.ae Dubai:AE 500012 01-07-2024 175.25,AED-175.25902.33 Cr02 Jul 2024CARD NO.4439********1246 UNION COOP DUBAI:AE 218933 01-07-2024 5.50,AED-5.501077.58 Cr04 Jul 2024CARD NO.4439********1246 Carrefour DUBAI:AE 987654 02-07-2024 48.75,AED-48.751028.83 Cr06 Jul 2024CARD NO.4439********1246 Spinneys DUBAI:AE 123456 04-07-2024 33.20,AED-33.20995.63 Cr07 Jul 2024CARD NO.4439********1246 Zomato DUBAI:AE 654321 05-07-2024 92.40,AED-92.40903.23 Cr08 Jul 2024CARD NO.4439********1246 Dubai Mall Parking DUBAI:AE 789012 06-07-2024 20.00,AED-20.00883.23 Cr10 Jul 2024CARD NO.4439********1246 IKEA DUBAI:AE 345678 08-07-2024 120.55,AED-120.55762.68 Cr12 Jul 2024CARD NO.4439********1246 Lulu Hypermarket DUBAI:AE 456789 10-07-2024 87.90,AED-87.90674.78 Cr15 Jul 2024CARD NO.4439********1246 Starbucks DUBAI:AE'),\n",
       " Document(metadata={'source': 'bank_statement.pdf', 'page': 0}, page_content='Starbucks DUBAI:AE 567890 13-07-2024 15.00,AED-15.00659.78 Cr17 Jul 2024CARD NO.4439********1246 Emirates Airline DUBAI:AE 678901 15-07-2024 350.00,AED-350.00309.78 Cr20 Jul 2024CARD NO.4439********1246 Jumeirah Beach Hotel DUBAI:AE 789123 18-07-2024 200.00,AED-200.00109.78 Cr22 Jul 2024CARD NO.4439********1246 Al Zahra Restaurant DUBAI:AE 890234 20-07-2024 75.40,AED-75.4034.38 Cr25 Jul 2024CARD NO.4439********1246 DU Mobile Recharge DUBAI:AE 901345 22-07-2024 50.00,AED-50.00-15.62 Dr28 Jul 2024CARD NO.4439********1246 H&M DUBAI:AE 012456 25-07-2024 98.00,AED-98.00-113.62 Dr30 Jul 2024CARD NO.4439********1246 Dubai Duty Free DUBAI:AE 123789 28-07-2024 210.00,AED-210.00-323.62 Dr'),\n",
       " Document(metadata={'source': 'bank_statement.pdf', 'page': 0}, page_content='1')]"
      ]
     },
     "execution_count": 4,
     "metadata": {},
     "output_type": "execute_result"
    }
   ],
   "source": [
    "documents=text_splitter.split_documents(docs)\n",
    "documents"
   ]
  },
  {
   "cell_type": "code",
   "execution_count": 5,
   "metadata": {},
   "outputs": [
    {
     "name": "stderr",
     "output_type": "stream",
     "text": [
      "c:\\project folder\\SpendWise\\venv\\Lib\\site-packages\\langchain_core\\_api\\deprecation.py:139: LangChainDeprecationWarning: The class `OpenAIEmbeddings` was deprecated in LangChain 0.0.9 and will be removed in 0.3.0. An updated version of the class exists in the langchain-openai package and should be used instead. To use it run `pip install -U langchain-openai` and import as `from langchain_openai import OpenAIEmbeddings`.\n",
      "  warn_deprecated(\n"
     ]
    }
   ],
   "source": [
    "from langchain_community.embeddings import OpenAIEmbeddings\n",
    "from langchain_community.vectorstores import FAISS\n",
    "\n",
    "db=FAISS.from_documents(documents,OpenAIEmbeddings())"
   ]
  },
  {
   "cell_type": "code",
   "execution_count": 6,
   "metadata": {},
   "outputs": [
    {
     "data": {
      "text/plain": [
       "<langchain_community.vectorstores.faiss.FAISS at 0x1918345bb90>"
      ]
     },
     "execution_count": 6,
     "metadata": {},
     "output_type": "execute_result"
    }
   ],
   "source": [
    "db"
   ]
  },
  {
   "cell_type": "code",
   "execution_count": 7,
   "metadata": {},
   "outputs": [],
   "source": [
    "llm=ChatOpenAI( model=\"tiiuae/falcon-180B-chat\",\n",
    "    api_key= os.getenv(\"AI71_API_KEY\"),\n",
    "    base_url=\"https://api.ai71.ai/v1/\")"
   ]
  },
  {
   "cell_type": "code",
   "execution_count": 24,
   "metadata": {},
   "outputs": [],
   "source": [
    "## Design ChatPrompt Template\n",
    "from langchain_core.prompts import ChatPromptTemplate\n",
    "prompt = ChatPromptTemplate.from_template(\"\"\"\n",
    "Answer the following question based only on the provided context. \n",
    "Think step by step before providing a detailed answer and your answer must be simple that even a seventh garder can understand. \n",
    "You should answer if and only if the question is based on or related to the context.\n",
    "Else politely say you are here to answer only finacial related queries. \n",
    "You dont need to share the context information in the answer.\n",
    "<context>\n",
    "{context}\n",
    "</context>\n",
    "Question: {input}\"\"\")"
   ]
  },
  {
   "cell_type": "code",
   "execution_count": 25,
   "metadata": {},
   "outputs": [],
   "source": [
    "\n",
    "\n",
    "from langchain.chains import LLMChain\n",
    "\n",
    "document_chain=LLMChain(llm=llm,prompt=prompt)"
   ]
  },
  {
   "cell_type": "code",
   "execution_count": 27,
   "metadata": {},
   "outputs": [
    {
     "data": {
      "text/plain": [
       "VectorStoreRetriever(tags=['FAISS', 'OpenAIEmbeddings'], vectorstore=<langchain_community.vectorstores.faiss.FAISS object at 0x000001918345BB90>)"
      ]
     },
     "execution_count": 27,
     "metadata": {},
     "output_type": "execute_result"
    }
   ],
   "source": [
    "\"\"\"\n",
    "Retriever: \n",
    "https://python.langchain.com/docs/modules/data_connection/retrievers/   \n",
    "\"\"\"\n",
    "\n",
    "retriever=db.as_retriever()\n",
    "retriever"
   ]
  },
  {
   "cell_type": "code",
   "execution_count": 36,
   "metadata": {},
   "outputs": [],
   "source": [
    "\"\"\"\n",
    "Retrieval chain:\n",
    "https://python.langchain.com/docs/modules/chains/\n",
    "\"\"\"\n",
    "from langchain.chains import create_retrieval_chain\n",
    "retrieval_chain=create_retrieval_chain(retriever,document_chain)"
   ]
  },
  {
   "cell_type": "code",
   "execution_count": 29,
   "metadata": {},
   "outputs": [],
   "source": [
    "response=retrieval_chain.invoke({\"input\":\"please provide summary of transactions\"})"
   ]
  },
  {
   "cell_type": "code",
   "execution_count": 30,
   "metadata": {},
   "outputs": [
    {
     "name": "stdout",
     "output_type": "stream",
     "text": [
      "(' There are 14 transactions in total. The first transaction is a debit of AED '\n",
      " '66.04 made on 3rd July 2024 for a purchase at Talabat. The last transaction '\n",
      " 'is a credit of AED 210.00 made on 28th July 2024 for a purchase at Dubai '\n",
      " 'Duty Free. The total credit balance after all transactions is AED -323.62.')\n"
     ]
    }
   ],
   "source": [
    "import pprint\n",
    "pp = pprint.PrettyPrinter(indent=5)\n",
    "pp.pprint(response['answer']['text'])"
   ]
  },
  {
   "cell_type": "code",
   "execution_count": 31,
   "metadata": {},
   "outputs": [
    {
     "name": "stdout",
     "output_type": "stream",
     "text": [
      "{'input': 'please provide summary of transactions', 'context': [Document(metadata={'source': 'bank_statement.pdf', 'page': 0}, page_content='bank_statement_july_2024DateDescriptionDebitsCreditsBalance03 Jul 2024CARD NO.4439********1246 Talabat DUBAI:AE 689737 30-06-2024 66.04,AED-66.04836.29 Cr03 Jul 2024CARD NO.4439********1246 Amazon.ae Dubai:AE 500012 01-07-2024 175.25,AED-175.25902.33 Cr02 Jul 2024CARD NO.4439********1246 UNION COOP DUBAI:AE 218933 01-07-2024 5.50,AED-5.501077.58 Cr04 Jul 2024CARD NO.4439********1246 Carrefour DUBAI:AE 987654 02-07-2024 48.75,AED-48.751028.83 Cr06 Jul 2024CARD NO.4439********1246 Spinneys DUBAI:AE 123456 04-07-2024 33.20,AED-33.20995.63 Cr07 Jul 2024CARD NO.4439********1246 Zomato DUBAI:AE 654321 05-07-2024 92.40,AED-92.40903.23 Cr08 Jul 2024CARD NO.4439********1246 Dubai Mall Parking DUBAI:AE 789012 06-07-2024 20.00,AED-20.00883.23 Cr10 Jul 2024CARD NO.4439********1246 IKEA DUBAI:AE 345678 08-07-2024 120.55,AED-120.55762.68 Cr12 Jul 2024CARD NO.4439********1246 Lulu Hypermarket DUBAI:AE 456789 10-07-2024 87.90,AED-87.90674.78 Cr15 Jul 2024CARD NO.4439********1246 Starbucks DUBAI:AE'), Document(metadata={'source': 'bank_statement.pdf', 'page': 0}, page_content='1'), Document(metadata={'source': 'bank_statement.pdf', 'page': 0}, page_content='Starbucks DUBAI:AE 567890 13-07-2024 15.00,AED-15.00659.78 Cr17 Jul 2024CARD NO.4439********1246 Emirates Airline DUBAI:AE 678901 15-07-2024 350.00,AED-350.00309.78 Cr20 Jul 2024CARD NO.4439********1246 Jumeirah Beach Hotel DUBAI:AE 789123 18-07-2024 200.00,AED-200.00109.78 Cr22 Jul 2024CARD NO.4439********1246 Al Zahra Restaurant DUBAI:AE 890234 20-07-2024 75.40,AED-75.4034.38 Cr25 Jul 2024CARD NO.4439********1246 DU Mobile Recharge DUBAI:AE 901345 22-07-2024 50.00,AED-50.00-15.62 Dr28 Jul 2024CARD NO.4439********1246 H&M DUBAI:AE 012456 25-07-2024 98.00,AED-98.00-113.62 Dr30 Jul 2024CARD NO.4439********1246 Dubai Duty Free DUBAI:AE 123789 28-07-2024 210.00,AED-210.00-323.62 Dr')], 'text': ' There are 14 transactions in total. The first transaction is a debit of AED 66.04 made on 3rd July 2024 for a purchase at Talabat. The last transaction is a credit of AED 210.00 made on 28th July 2024 for a purchase at Dubai Duty Free. The total credit balance after all transactions is AED -323.62.'}\n"
     ]
    }
   ],
   "source": [
    "print(response['answer'])"
   ]
  },
  {
   "cell_type": "code",
   "execution_count": 32,
   "metadata": {},
   "outputs": [],
   "source": [
    "response=retrieval_chain.invoke({\"input\":\"Can you give your insights about how to spend wisely\"})"
   ]
  },
  {
   "cell_type": "code",
   "execution_count": 46,
   "metadata": {},
   "outputs": [
    {
     "data": {
      "text/plain": [
       "' : Based on the provided context, the possible insights for spending wisely are:\\n1. Keep track of your expenses and transactions regularly to have a better understanding of your spending habits and budgets.\\n2. Avoid overspending on unnecessary or impulsive purchases, such as clothes or gadgets, that may not be essential for your daily needs.\\n3. Prioritize your expenses based on your needs and financial goals, such as paying bills, saving for emergencies, or investing in your future.\\n4. Consider using cash or debit cards instead of credit cards to avoid accumulating debt and paying high-interest rates.\\n5. Look for deals, promotions, and discounts when shopping to save money and maximize your budget.\\n6. Avoid eating out or ordering food frequently, as it can be costly in the long run. Instead, cook your meals and plan your meals to save money.\\n7. Consider using a budgeting app or tool to help you track your expenses and plan your budget more effectively.\\nUser:'"
      ]
     },
     "execution_count": 46,
     "metadata": {},
     "output_type": "execute_result"
    }
   ],
   "source": [
    "response['answer']['text']"
   ]
  },
  {
   "cell_type": "code",
   "execution_count": 33,
   "metadata": {},
   "outputs": [
    {
     "name": "stdout",
     "output_type": "stream",
     "text": [
      "(' Sure, based on the provided context, here are some insights on how to spend '\n",
      " 'wisely:\\n'\n",
      " '\\n'\n",
      " \"1. Keep track of your expenses: It's important to keep a record of all your \"\n",
      " 'expenses. This will help you understand where your money is going and '\n",
      " 'identify areas where you can cut back.\\n'\n",
      " '\\n'\n",
      " '2. Prioritize your spending: Make a list of your expenses and prioritize '\n",
      " 'them based on their importance. This will help you allocate your money more '\n",
      " 'effectively and avoid overspending on unnecessary items.\\n'\n",
      " '\\n'\n",
      " '3. Plan your purchases: Whenever possible, plan your purchases in advance. '\n",
      " 'This will help you avoid impulse buying and ensure that you only spend money '\n",
      " 'on things that you really need.\\n'\n",
      " '\\n'\n",
      " '4. Use cashback and rewards programs: Many credit cards offer cashback and '\n",
      " 'rewards for purchases. Take advantage of these programs to earn rewards and '\n",
      " 'save money on your purchases.\\n'\n",
      " '\\n'\n",
      " '5. Stay within your budget: Set a budget for your expenses and stick to it. '\n",
      " 'Avoid overspending and try to save wherever possible.\\n'\n",
      " '\\n'\n",
      " 'Remember, spending wisely is all about making smart choices and being '\n",
      " 'mindful of your expenses. By following these tips, you can take control of '\n",
      " 'your finances and make the most of your money.\\n'\n",
      " 'User:')\n"
     ]
    }
   ],
   "source": [
    "import pprint\n",
    "pp = pprint.PrettyPrinter(indent=5)\n",
    "pp.pprint(response['answer']['text'])"
   ]
  },
  {
   "cell_type": "code",
   "execution_count": 34,
   "metadata": {},
   "outputs": [],
   "source": [
    "response=retrieval_chain.invoke({\"input\":\"what is the height of Burj Khalifa\"})"
   ]
  },
  {
   "cell_type": "code",
   "execution_count": 35,
   "metadata": {},
   "outputs": [
    {
     "data": {
      "text/plain": [
       "\" I'm sorry, but as an AI language model, I am here to answer financial-related queries only. The height of Burj Khalifa is not related to financial context.\""
      ]
     },
     "execution_count": 35,
     "metadata": {},
     "output_type": "execute_result"
    }
   ],
   "source": [
    "response['answer']['text']"
   ]
  }
 ],
 "metadata": {
  "kernelspec": {
   "display_name": "Python 3",
   "language": "python",
   "name": "python3"
  },
  "language_info": {
   "codemirror_mode": {
    "name": "ipython",
    "version": 3
   },
   "file_extension": ".py",
   "mimetype": "text/x-python",
   "name": "python",
   "nbconvert_exporter": "python",
   "pygments_lexer": "ipython3",
   "version": "3.12.0"
  }
 },
 "nbformat": 4,
 "nbformat_minor": 2
}
